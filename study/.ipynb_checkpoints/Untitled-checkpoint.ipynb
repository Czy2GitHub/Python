{
 "cells": [
  {
   "cell_type": "markdown",
   "metadata": {},
   "source": [
    "## 常见的数据分析库\n",
    "### 1.NumPy（维度运算，矩阵运算）\n",
    "### 2.Pandas库（基于NumPy的数据分析库）\n",
    "### 3.Matplotlib库（绘制数组的2D图形库）\n",
    "### 4.Seaborn库（基于Matplotlib的数据可视化）\n",
    "### 5.NLTK库"
   ]
  },
  {
   "cell_type": "markdown",
   "metadata": {},
   "source": [
    "# NumPy库"
   ]
  },
  {
   "cell_type": "markdown",
   "metadata": {},
   "source": [
    "## 1.ndarray"
   ]
  },
  {
   "cell_type": "markdown",
   "metadata": {},
   "source": [
    "Numpy中最重要的就是n为数组对象，即ndarray"
   ]
  },
  {
   "cell_type": "markdown",
   "metadata": {},
   "source": [
    "## 2.ndarray的常用属性\n",
    "    ndarray.ndim     维度个数，也就是数组轴的个数，比如说一维、二维、三维等\n",
    "    ndarray.shap     数组的维度，这是一个整数的元组，表示每个维度上数组的大小。例如，一个n行m列的数组，它的shape属性为(n,m)\n",
    "    ndarray.size     数组元素的总个数，等于shape属性中元组元素的乘积\n",
    "    nd.dtype        描述数组中元素类型的对象，既可以使用标准的Python创建或指定，也可以使用NumPy特有的数据类型来指定，比如numpy.int32、float64等\n",
    "    nd.itemsize      数组中每个元素的字节大小。例如，元素类型为float64的数组有8（64/8）个字节，这相当于ndarray.dtype.ietem"
   ]
  },
  {
   "cell_type": "markdown",
   "metadata": {},
   "source": [
    " ## 3.多维数组的转置\n",
    " ### .transpose()方法\n",
    "     以shape为(2, 2, 4)三位数组为例，它的对应的轴坐标为0,1,2\n",
    "     此时可以调用.transpose()方法来对数组进行转置"
   ]
  },
  {
   "cell_type": "code",
   "execution_count": 2,
   "metadata": {},
   "outputs": [
    {
     "data": {
      "text/plain": [
       "(1, 2, 3)"
      ]
     },
     "execution_count": 2,
     "metadata": {},
     "output_type": "execute_result"
    }
   ],
   "source": [
    "import numpy as np\n",
    "ndarr = np.arange(6).reshape(1,2,3)\n",
    "ndarr.shape"
   ]
  },
  {
   "cell_type": "code",
   "execution_count": 4,
   "metadata": {},
   "outputs": [
    {
     "data": {
      "text/plain": [
       "(2, 3, 1)"
      ]
     },
     "execution_count": 4,
     "metadata": {},
     "output_type": "execute_result"
    }
   ],
   "source": [
    "ndarr.transpose(1,2,0).shape"
   ]
  },
  {
   "cell_type": "code",
   "execution_count": 5,
   "metadata": {},
   "outputs": [
    {
     "data": {
      "text/plain": [
       "(3, 2, 1)"
      ]
     },
     "execution_count": 5,
     "metadata": {},
     "output_type": "execute_result"
    }
   ],
   "source": [
    "ndarr.transpose().shape"
   ]
  },
  {
   "cell_type": "markdown",
   "metadata": {},
   "source": [
    "## .swapaxes()方法\n",
    "    多维数组中有时候只需转换其中两个轴"
   ]
  },
  {
   "cell_type": "code",
   "execution_count": 6,
   "metadata": {},
   "outputs": [
    {
     "data": {
      "text/plain": [
       "(1, 3, 2)"
      ]
     },
     "execution_count": 6,
     "metadata": {},
     "output_type": "execute_result"
    }
   ],
   "source": [
    "ndarr.swapaxes(1,2).shape"
   ]
  },
  {
   "cell_type": "markdown",
   "metadata": {},
   "source": [
    "## 4.将条件逻辑转换为数组运算\n",
    "### 使用numpy中的where()函数"
   ]
  },
  {
   "cell_type": "code",
   "execution_count": 8,
   "metadata": {},
   "outputs": [
    {
     "data": {
      "text/plain": [
       "array([1, 4, 6])"
      ]
     },
     "execution_count": 8,
     "metadata": {},
     "output_type": "execute_result"
    }
   ],
   "source": [
    "# where方法 第一个参数为判断条件，第二、第三个参数为两个ndarray数组\n",
    "arr_x = np.array([1,3,5])\n",
    "arr_y = np.array([2,4,6])\n",
    "arr_con = np.array([True,False,False])\n",
    "# 若为真值，则从第一个数组取一个元素；反之，则从第二个数组取元素，返回一个形状相同的数组。\n",
    "result = np.where(arr_con,arr_x,arr_y)\n",
    "result"
   ]
  },
  {
   "cell_type": "markdown",
   "metadata": {},
   "source": [
    "## 5.检索数组元素\n",
    "### 使用np.all()和np.any()\n",
    "    all在所有数组元素全为真时才会返回True；any是存在一个数组元素为真就返回True"
   ]
  },
  {
   "cell_type": "code",
   "execution_count": 9,
   "metadata": {},
   "outputs": [
    {
     "data": {
      "text/plain": [
       "array([-1,  0,  1,  2,  3,  4,  5,  6,  7,  8,  9, 10, 11])"
      ]
     },
     "execution_count": 9,
     "metadata": {},
     "output_type": "execute_result"
    }
   ],
   "source": [
    "arr1 = np.arange(-1,12)\n",
    "arr1"
   ]
  },
  {
   "cell_type": "code",
   "execution_count": 10,
   "metadata": {},
   "outputs": [
    {
     "data": {
      "text/plain": [
       "False"
      ]
     },
     "execution_count": 10,
     "metadata": {},
     "output_type": "execute_result"
    }
   ],
   "source": [
    "np.all(arr1 > 0)"
   ]
  },
  {
   "cell_type": "code",
   "execution_count": 11,
   "metadata": {},
   "outputs": [
    {
     "data": {
      "text/plain": [
       "True"
      ]
     },
     "execution_count": 11,
     "metadata": {},
     "output_type": "execute_result"
    }
   ],
   "source": [
    "np.any(arr1 > 0)"
   ]
  },
  {
   "cell_type": "markdown",
   "metadata": {},
   "source": [
    "## 6.唯一化及其他集合逻辑\n",
    "### 使用numpy下的unique()来找出数组中的唯一值\n",
    "arr2 = n"
   ]
  }
 ],
 "metadata": {
  "kernelspec": {
   "display_name": "Python 3",
   "language": "python",
   "name": "python3"
  },
  "language_info": {
   "codemirror_mode": {
    "name": "ipython",
    "version": 3
   },
   "file_extension": ".py",
   "mimetype": "text/x-python",
   "name": "python",
   "nbconvert_exporter": "python",
   "pygments_lexer": "ipython3",
   "version": "3.7.3"
  }
 },
 "nbformat": 4,
 "nbformat_minor": 2
}
